{
  "nbformat": 4,
  "nbformat_minor": 0,
  "metadata": {
    "colab": {
      "provenance": [],
      "toc_visible": true,
      "include_colab_link": true
    },
    "kernelspec": {
      "name": "python3",
      "display_name": "Python 3"
    },
    "language_info": {
      "name": "python"
    }
  },
  "cells": [
    {
      "cell_type": "markdown",
      "metadata": {
        "id": "view-in-github",
        "colab_type": "text"
      },
      "source": [
        "<a href=\"https://colab.research.google.com/github/javiercullashuapaya3/tools/blob/main/example_plugin_openai.ipynb\" target=\"_parent\"><img src=\"https://colab.research.google.com/assets/colab-badge.svg\" alt=\"Open In Colab\"/></a>"
      ]
    },
    {
      "cell_type": "markdown",
      "source": [
        "<img src=\"https://www.ctic.uni.edu.pe/wp-content/uploads/2022/04/588px-x-348px-web-1.png\" alt=\"HTML5 Icon\" width=\"900\" height=\"350\" >"
      ],
      "metadata": {
        "id": "X5uZnS2MO0LM"
      }
    },
    {
      "cell_type": "code",
      "source": [
        "\n",
        "pip install yt-dlp"
      ],
      "metadata": {
        "colab": {
          "base_uri": "https://localhost:8080/"
        },
        "id": "0JbfqBfYesxH",
        "outputId": "d3b0259b-36b8-414e-e4d0-d0c2bd23abaf"
      },
      "execution_count": null,
      "outputs": [
        {
          "output_type": "stream",
          "name": "stdout",
          "text": [
            "Looking in indexes: https://pypi.org/simple, https://us-python.pkg.dev/colab-wheels/public/simple/\n",
            "Collecting yt-dlp\n",
            "  Downloading yt_dlp-2022.9.1-py2.py3-none-any.whl (2.7 MB)\n",
            "\u001b[K     |████████████████████████████████| 2.7 MB 5.2 MB/s \n",
            "\u001b[?25hRequirement already satisfied: certifi in /usr/local/lib/python3.7/dist-packages (from yt-dlp) (2022.6.15)\n",
            "Collecting brotli\n",
            "  Downloading Brotli-1.0.9-cp37-cp37m-manylinux1_x86_64.whl (357 kB)\n",
            "\u001b[K     |████████████████████████████████| 357 kB 64.8 MB/s \n",
            "\u001b[?25hCollecting websockets\n",
            "  Downloading websockets-10.3-cp37-cp37m-manylinux_2_5_x86_64.manylinux1_x86_64.manylinux_2_12_x86_64.manylinux2010_x86_64.whl (112 kB)\n",
            "\u001b[K     |████████████████████████████████| 112 kB 76.4 MB/s \n",
            "\u001b[?25hCollecting mutagen\n",
            "  Downloading mutagen-1.45.1-py3-none-any.whl (218 kB)\n",
            "\u001b[K     |████████████████████████████████| 218 kB 63.2 MB/s \n",
            "\u001b[?25hCollecting pycryptodomex\n",
            "  Downloading pycryptodomex-3.15.0-cp35-abi3-manylinux2010_x86_64.whl (2.3 MB)\n",
            "\u001b[K     |████████████████████████████████| 2.3 MB 45.6 MB/s \n",
            "\u001b[?25hInstalling collected packages: websockets, pycryptodomex, mutagen, brotli, yt-dlp\n",
            "Successfully installed brotli-1.0.9 mutagen-1.45.1 pycryptodomex-3.15.0 websockets-10.3 yt-dlp-2022.9.1\n"
          ]
        }
      ]
    },
    {
      "cell_type": "code",
      "source": [
        "#para audio\n",
        "import yt_dlp\n",
        "\n",
        "URLS = ['https://www.youtube.com/watch?v=5en2JMLA8Z0']\n",
        "\n",
        "ydl_opts = {\n",
        "    'format': 'm4a/bestaudio/best',\n",
        "    # ℹ️ See help(yt_dlp.postprocessor) for a list of available Postprocessors and their arguments\n",
        "    'postprocessors': [{  # Extract audio using ffmpeg\n",
        "        'key': 'FFmpegExtractAudio',\n",
        "        'preferredcodec': 'm4a',\n",
        "    }]\n",
        "}\n",
        "\n",
        "with yt_dlp.YoutubeDL(ydl_opts) as ydl:\n",
        "    error_code = ydl.download(URLS)"
      ],
      "metadata": {
        "colab": {
          "base_uri": "https://localhost:8080/"
        },
        "id": "4O8L_cOih3Lw",
        "outputId": "c68986bb-6db1-47ea-ebc5-0f21c22d7bd0"
      },
      "execution_count": null,
      "outputs": [
        {
          "output_type": "stream",
          "name": "stdout",
          "text": [
            "[youtube] 5en2JMLA8Z0: Downloading webpage\n",
            "[youtube] 5en2JMLA8Z0: Downloading android player API JSON\n",
            "[info] 5en2JMLA8Z0: Downloading 1 format(s): 140\n",
            "[download] Destination: I Should Have Known Better (Remastered 2009) [5en2JMLA8Z0].m4a\n",
            "[download] 100% of 2.52MiB in 00:00 at 16.25MiB/s     \n",
            "[FixupM4a] Correcting container of \"I Should Have Known Better (Remastered 2009) [5en2JMLA8Z0].m4a\"\n",
            "[ExtractAudio] Not converting audio I Should Have Known Better (Remastered 2009) [5en2JMLA8Z0].m4a; file is already in target format m4a\n"
          ]
        }
      ]
    },
    {
      "cell_type": "code",
      "source": [
        "#para video\n",
        "import yt_dlp\n",
        "\n",
        "URLS = ['https://www.youtube.com/watch?v=8-U4rLKRbIw']\n",
        "\n",
        "ydl_opts = {'format': 'bestvideo[ext=mp4]+bestaudio[ext=mp4]/mp4+best[height<=480]'}\n",
        "\n",
        "with yt_dlp.YoutubeDL(ydl_opts) as ydl:\n",
        "    error_code = ydl.download(URLS)\n"
      ],
      "metadata": {
        "colab": {
          "base_uri": "https://localhost:8080/"
        },
        "id": "XYUno7VElrKT",
        "outputId": "53d782e9-0078-4735-9215-69874bc17dc1"
      },
      "execution_count": null,
      "outputs": [
        {
          "output_type": "stream",
          "name": "stdout",
          "text": [
            "[youtube] 8-U4rLKRbIw: Downloading webpage\n",
            "[youtube] 8-U4rLKRbIw: Downloading android player API JSON\n",
            "[youtube] 8-U4rLKRbIw: Downloading MPD manifest\n",
            "[youtube] 8-U4rLKRbIw: Downloading MPD manifest\n",
            "[info] 8-U4rLKRbIw: Downloading 1 format(s): 22\n",
            "[download] Destination: Believe Tech Corporate Intro [8-U4rLKRbIw].mp4\n",
            "[download] 100% of 2.14MiB in 00:00 at 3.42MiB/s      \n"
          ]
        }
      ]
    }
  ]
}